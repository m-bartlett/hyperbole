{
 "cells": [
  {
   "cell_type": "code",
   "execution_count": 1,
   "metadata": {
    "collapsed": false
   },
   "outputs": [],
   "source": [
    "import math\n",
    "\n",
    "from drawSvg import Drawing, Path\n",
    "import hyperbolic as hyper"
   ]
  },
  {
   "cell_type": "code",
   "execution_count": 2,
   "metadata": {
    "collapsed": false
   },
   "outputs": [
    {
     "name": "stdout",
     "output_type": "stream",
     "text": [
      "Line(1.0, 1.0, 0.0, 2.0)\n",
      "1.4142135623730951\n",
      "135.0\n"
     ]
    }
   ],
   "source": [
    "l = hyper.euclid.shapes.Line(0,0,2,2)\n",
    "p = l.makePerpendicular(2,0, length=math.sqrt(2))\n",
    "\n",
    "print(p)\n",
    "print(math.hypot(p.x2-p.x1, p.y2-p.y1))\n",
    "print(math.atan2(p.y2-p.y1, p.x2-p.x1)*180/math.pi)"
   ]
  },
  {
   "cell_type": "code",
   "execution_count": 3,
   "metadata": {
    "collapsed": false
   },
   "outputs": [
    {
     "data": {
      "text/plain": [
       "Line(-1.25, 0.0, -1.25, 1.0)"
      ]
     },
     "execution_count": 3,
     "metadata": {},
     "output_type": "execute_result"
    }
   ],
   "source": [
    "c1 = hyper.euclid.shapes.Circle(-1,0,2)\n",
    "c2 = hyper.euclid.shapes.Circle(1,0,3)\n",
    "hyper.euclid.shapes.Line.radicalAxis(c1,c2)"
   ]
  },
  {
   "cell_type": "code",
   "execution_count": 4,
   "metadata": {
    "collapsed": false
   },
   "outputs": [
    {
     "data": {
      "text/plain": [
       "Line(0.5, 5.0, 0.495, 6.0)"
      ]
     },
     "execution_count": 4,
     "metadata": {},
     "output_type": "execute_result"
    }
   ],
   "source": [
    "c1 = hyper.euclid.shapes.Circle(-1000-1,0,1000)\n",
    "c2 = hyper.euclid.shapes.Circle(1000+2,10,1000)\n",
    "hyper.euclid.shapes.Line.radicalAxis(c1,c2)"
   ]
  },
  {
   "cell_type": "code",
   "execution_count": 5,
   "metadata": {
    "collapsed": false
   },
   "outputs": [
    {
     "name": "stdout",
     "output_type": "stream",
     "text": [
      "Single (0.29289321881345254, 0.29289321881345254)\n",
      "1.6455619111856357 1.763707940790424 0.04674578112205652 0.697830520748038\n",
      "-0.4 0.4\n"
     ]
    },
    {
     "data": {
      "image/svg+xml": [
       "<?xml version=\"1.0\" encoding=\"UTF-8\"?>\n",
       "<svg xmlns=\"http://www.w3.org/2000/svg\" xmlns:xlink=\"http://www.w3.org/1999/xlink\"\n",
       "     width=\"400\" height=\"399.99999999999994\" viewBox=\"-2.05 -2.05 4.1 4.1\">\n",
       "<defs>\n",
       "</defs>\n",
       "<circle cx=\"0\" cy=\"0\" r=\"1\" fill=\"silver\" />\n",
       "<circle cx=\"-1\" cy=\"1\" r=\"1.8284271247461903\" stroke=\"red\" stroke-width=\"0.02\" fill=\"none\" />\n",
       "<circle cx=\"1\" cy=\"-1\" r=\"1\" stroke=\"red\" stroke-width=\"0.02\" fill=\"none\" />\n",
       "<path d=\"M2,-2 L-1,0\" stroke=\"red\" stroke-width=\"0.02\" fill=\"none\" />\n",
       "<path d=\"M-2,0 L2,-1\" stroke=\"red\" stroke-width=\"0.02\" fill=\"none\" />\n",
       "<circle cx=\"0.29289321881345254\" cy=\"-0.29289321881345254\" r=\"0.04\" fill=\"black\" />\n",
       "<circle cx=\"0.29289321881345254\" cy=\"-0.29289321881345254\" r=\"0.04\" fill=\"green\" />\n",
       "<circle cx=\"1.6455619111856357\" cy=\"-1.763707940790424\" r=\"0.04\" fill=\"black\" />\n",
       "<circle cx=\"0.04674578112205652\" cy=\"-0.697830520748038\" r=\"0.04\" fill=\"green\" />\n",
       "<circle cx=\"-0.40000000000000036\" cy=\"-0.3999999999999999\" r=\"0.04\" fill=\"black\" />\n",
       "</svg>"
      ],
      "text/plain": [
       "<drawSvg.drawing.Drawing at 0x10f559cf8>"
      ]
     },
     "execution_count": 5,
     "metadata": {},
     "output_type": "execute_result"
    }
   ],
   "source": [
    "circ1 = hyper.euclid.shapes.Circle(-1,-1,math.sqrt(8)-1)\n",
    "circ2 = hyper.euclid.shapes.Circle(1,1,1)\n",
    "line1 = hyper.euclid.shapes.Line(2,2, -1,0)\n",
    "line2 = hyper.euclid.shapes.Line(-2,0, 2,1)\n",
    "#line1 = hyper.euclid.shapes.OriginLine(4,1)\n",
    "\n",
    "try:\n",
    "    x1, y1, x2, y2 = hyper.euclid.intersection.circleCircle(circ1, circ2)\n",
    "    print(x1, y1, x2, y2)\n",
    "except hyper.euclid.SingleIntersection as e:\n",
    "    print('Single', e)\n",
    "    x1, y1 = e.args\n",
    "    x2, y2 = x1, y1\n",
    "except hyper.euclid.NoIntersection:\n",
    "    print('No intersection')\n",
    "    x1, y1, x2, y2 = (float('nan'),)*4\n",
    "except hyper.euclid.InfiniteIntersections as e:\n",
    "    print('Infinite')\n",
    "    x1, y1, x2, y2 = (float('nan'),)*4\n",
    "\n",
    "try:\n",
    "    x1b, y1b, x2b, y2b = hyper.euclid.intersection.circleLine(circ2, line1)\n",
    "    print(x1b, y1b, x2b, y2b)\n",
    "except hyper.euclid.SingleIntersection as e:\n",
    "    print('Single', e)\n",
    "    x1b, y1b = e.args\n",
    "    x2b, y2b = x1, y1\n",
    "except hyper.euclid.NoIntersection:\n",
    "    print('No intersection')\n",
    "    x1b, y1b, x2b, y2b = (float('nan'),)*4\n",
    "\n",
    "try:\n",
    "    x1c, y1c = hyper.euclid.intersection.lineLine(line1, line2)\n",
    "    print(x1c, y1c)\n",
    "except hyper.euclid.NoIntersection:\n",
    "    print('No intersection')\n",
    "    x1c, y1c = (float('nan'),)*2\n",
    "except hyper.euclid.InfiniteIntersections as e:\n",
    "    print('Infinite')\n",
    "    x1c, y1c = (float('nan'),)*2\n",
    "\n",
    "d = Drawing(4.1, 4.1, origin='center')\n",
    "d.draw(hyper.euclid.shapes.Circle(0, 0, 1), fill='silver')\n",
    "d.draw(circ1, stroke='red', stroke_width=0.02, fill='none')\n",
    "d.draw(circ2, stroke='red', stroke_width=0.02, fill='none')\n",
    "d.draw(line1, stroke='red', stroke_width=0.02, fill='none')\n",
    "d.draw(line2, stroke='red', stroke_width=0.02, fill='none')\n",
    "d.draw(hyper.euclid.shapes.Circle(x1, y1, 0.04), fill='black')\n",
    "d.draw(hyper.euclid.shapes.Circle(x2, y2, 0.04), fill='green')\n",
    "d.draw(hyper.euclid.shapes.Circle(x1b, y1b, 0.04), fill='black')\n",
    "d.draw(hyper.euclid.shapes.Circle(x2b, y2b, 0.04), fill='green')\n",
    "d.draw(hyper.euclid.shapes.Circle(x1c, y1c, 0.04), fill='black')\n",
    "\n",
    "d.setRenderSize(w=400)\n",
    "d.saveSvg('images/euclidTest.svg')\n",
    "d"
   ]
  }
 ],
 "metadata": {
  "kernelspec": {
   "display_name": "Python 3",
   "language": "python",
   "name": "python3"
  },
  "language_info": {
   "codemirror_mode": {
    "name": "ipython",
    "version": 3
   },
   "file_extension": ".py",
   "mimetype": "text/x-python",
   "name": "python",
   "nbconvert_exporter": "python",
   "pygments_lexer": "ipython3",
   "version": "3.6.1"
  }
 },
 "nbformat": 4,
 "nbformat_minor": 1
}
